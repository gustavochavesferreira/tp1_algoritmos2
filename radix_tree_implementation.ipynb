{
  "nbformat": 4,
  "nbformat_minor": 0,
  "metadata": {
    "colab": {
      "provenance": [],
      "authorship_tag": "ABX9TyMaksg7cHhawL/m6db2Uguv",
      "include_colab_link": true
    },
    "kernelspec": {
      "name": "python3",
      "display_name": "Python 3"
    },
    "language_info": {
      "name": "python"
    }
  },
  "cells": [
    {
      "cell_type": "markdown",
      "metadata": {
        "id": "view-in-github",
        "colab_type": "text"
      },
      "source": [
        "<a href=\"https://colab.research.google.com/github/gustavochavesferreira/tp1_algoritmos2/blob/main/radix_tree_implementation.ipynb\" target=\"_parent\"><img src=\"https://colab.research.google.com/assets/colab-badge.svg\" alt=\"Open In Colab\"/></a>"
      ]
    },
    {
      "cell_type": "code",
      "source": [
        "!pip install graphviz\n",
        "!apt-get install graphviz -y"
      ],
      "metadata": {
        "colab": {
          "base_uri": "https://localhost:8080/"
        },
        "id": "Frdzrsj6KUqW",
        "outputId": "391ae457-0c24-43ad-8a24-983cffce4fda"
      },
      "execution_count": null,
      "outputs": [
        {
          "output_type": "stream",
          "name": "stdout",
          "text": [
            "Requirement already satisfied: graphviz in /usr/local/lib/python3.10/dist-packages (0.20.3)\n",
            "Reading package lists... Done\n",
            "Building dependency tree... Done\n",
            "Reading state information... Done\n",
            "graphviz is already the newest version (2.42.2-6ubuntu0.1).\n",
            "0 upgraded, 0 newly installed, 0 to remove and 49 not upgraded.\n"
          ]
        }
      ]
    },
    {
      "cell_type": "code",
      "execution_count": 85,
      "metadata": {
        "id": "jxrMRlgpVFe_"
      },
      "outputs": [],
      "source": [
        "from graphviz import Digraph\n",
        "\n",
        "class CompactTrieNode:\n",
        "  def __init__(self, binary_string: str = \"\", is_leaf: bool = False) -> None:\n",
        "    self.children = [None, None]\n",
        "    self.is_leaf = is_leaf\n",
        "    self.binary_string = binary_string\n",
        "    self.unique_id = id(self)  # Unique ID for visualization purposes\n",
        "\n",
        "class CompactTrie:\n",
        "  def __init__(self) -> None:\n",
        "    self.root = None\n",
        "\n",
        "  def get_common_prefix_length(self, key1: str, key2: str) -> int:\n",
        "    i = 0\n",
        "    while i < min(len(key1), len(key2)) and key1[i] == key2[i]:\n",
        "        i += 1\n",
        "    return i\n",
        "\n",
        "  def search(self, key: str) -> CompactTrieNode:\n",
        "        # Start at the root node\n",
        "        current_node = self.root\n",
        "\n",
        "        # Traverse the trie\n",
        "        while current_node:\n",
        "            # Compare the prefix of the key with the node's binary_string\n",
        "            common_prefix_length = self.get_common_prefix_length(current_node.binary_string, key)\n",
        "\n",
        "            # If the current node matches the prefix of the key\n",
        "            if common_prefix_length == len(current_node.binary_string):\n",
        "                key = key[common_prefix_length:]  # Shorten the key by the matched part\n",
        "\n",
        "                # If the remaining key is empty and the current node is a leaf, we found the key\n",
        "                if not key:\n",
        "                  if current_node.is_leaf:\n",
        "                    return current_node\n",
        "                  else:\n",
        "                    return None\n",
        "\n",
        "                current_node = current_node.children[int(key[0])]  # Move to the child node based on the first char of the key\n",
        "\n",
        "            else:\n",
        "                return None  # No match for the current node's prefix\n",
        "\n",
        "        return None  # If we reach here, the key is not found\n",
        "\n",
        "  def insert(self, key: str) -> None:\n",
        "    # Caso em que a árvore está vazia\n",
        "    if(self.root == None):\n",
        "      self.root = CompactTrieNode(key, True)\n",
        "      return\n",
        "\n",
        "    # Caso em que a árvore já possuia pelo menos um elemento\n",
        "    else:\n",
        "\n",
        "      # Olhando para a raiz\n",
        "      common_prefix_length = self.get_common_prefix_length(self.root.binary_string, key)\n",
        "\n",
        "      if(key == self.root.binary_string):\n",
        "        self.root.is_leaf = True\n",
        "        return\n",
        "\n",
        "      elif(common_prefix_length < len(self.root.binary_string)):\n",
        "        old_node = self.root\n",
        "        new_node = CompactTrieNode(key[common_prefix_length:], True)\n",
        "        self.root = CompactTrieNode(key[:common_prefix_length], False)\n",
        "        self.root.children[int(old_node.binary_string[0])] = old_node\n",
        "        self.root.children[int(new_node.binary_string[0])] = new_node\n",
        "        return\n",
        "\n",
        "      elif(True):\n",
        "        if(len(key[common_prefix_length:]) == 0):\n",
        "          common_prefix_node = CompactTrieNode(self.root.binary_string[:common_prefix_length], True)\n",
        "\n",
        "          if(self.root.is_leaf == True):\n",
        "            old_suffix_node = CompactTrieNode(self.root.binary_string[common_prefix_length:], True)\n",
        "          else:\n",
        "            old_suffix_node = CompactTrieNode(self.root.binary_string[common_prefix_length:])\n",
        "\n",
        "          old_suffix_node.children[0] = self.root.children[0]\n",
        "          old_suffix_node.children[1] = self.root.children[1]\n",
        "\n",
        "          common_prefix_node.children[int(old_suffix_node.binary_string[0])] = old_suffix_node\n",
        "          self.root = common_prefix_node\n",
        "\n",
        "          return\n",
        "\n",
        "        else:\n",
        "          common_prefix_node = CompactTrieNode(self.root.binary_string[:common_prefix_length])\n",
        "\n",
        "          if(self.root.is_leaf == True):\n",
        "            old_suffix_node = CompactTrieNode(self.root.binary_string[common_prefix_length:], True)\n",
        "          else:\n",
        "            old_suffix_node = CompactTrieNode(self.root.binary_string[common_prefix_length:])\n",
        "\n",
        "          key_suffix_node = CompactTrieNode(key[common_prefix_length:], True)\n",
        "\n",
        "          old_suffix_node.children[0] = self.root.children[0]\n",
        "          old_suffix_node.children[1] = self.root.children[1]\n",
        "\n",
        "          common_prefix_node.children[int(old_suffix_node.binary_string[0])] = old_suffix_node # Tratar caso em que a string pode ter acabado\n",
        "          common_prefix_node.children[int(key_suffix_node.binary_string[0])] = key_suffix_node\n",
        "          self.root = common_prefix_node\n",
        "\n",
        "          return\n",
        "\n",
        "      else:\n",
        "        current_node = self.root\n",
        "        last_node = None\n",
        "\n",
        "        while((current_node != None) and (current_node.binary_string == key[:len(current_node.binary_string)])):\n",
        "          key = key[len(current_node.binary_string):]\n",
        "\n",
        "          if((len(key)) == 0 and (current_node.is_leaf == False)):\n",
        "            current_node.is_leaf = True\n",
        "            return\n",
        "\n",
        "          last_node = current_node\n",
        "          current_node = current_node.children[int(key[0])]\n",
        "\n",
        "        if(current_node == None):\n",
        "          new_node = CompactTrieNode(key, True)\n",
        "          last_node.children[int(key[0])] = new_node\n",
        "          return\n",
        "\n",
        "        common_prefix_length = self.get_common_prefix_length(current_node.binary_string, key)\n",
        "\n",
        "        common_prefix_node = CompactTrieNode(current_node.binary_string[:common_prefix_length])\n",
        "        if(self.root.is_leaf == True):\n",
        "          old_suffix_node = CompactTrieNode(self.root.binary_string[common_prefix_length:], True)\n",
        "        else:\n",
        "          old_suffix_node = CompactTrieNode(self.root.binary_string[common_prefix_length:])\n",
        "        key_suffix_node = CompactTrieNode(key[common_prefix_length:], True)\n",
        "\n",
        "        last_node.children[int(key[0])] = common_prefix_node\n",
        "        common_prefix_node.children[int(old_suffix_node.binary_string[0])] = old_suffix_node # Tratar caso em que a string pode ter acabado\n",
        "        common_prefix_node.children[int(key_suffix_node.binary_string[0])] = key_suffix_node\n",
        "\n",
        "        old_suffix_node.children[0] = current_node.children[0]\n",
        "        old_suffix_node.children[1] = current_node.children[1]\n",
        "\n",
        "  def visualize(self, filename=\"compact_trie\"):\n",
        "      dot = Digraph(comment=\"Compact Trie\")\n",
        "\n",
        "      def add_nodes_edges(node, parent_label=None):\n",
        "          if node is None:\n",
        "              return\n",
        "          node_label = f\"{node.binary_string}_{node.unique_id}\"\n",
        "          dot.node(node_label, node.binary_string, shape='circle', color='black', fontcolor='red' if node.is_leaf else 'blue')\n",
        "          if parent_label:\n",
        "              dot.edge(parent_label, node_label)\n",
        "          if node.children[0] is not None:\n",
        "              add_nodes_edges(node.children[0], node_label)\n",
        "          if node.children[1] is not None:\n",
        "              add_nodes_edges(node.children[1], node_label)\n",
        "\n",
        "      if self.root is not None:\n",
        "          add_nodes_edges(self.root)\n",
        "\n",
        "      dot.render(filename, format=\"png\", cleanup=True)\n",
        "      print(f\"Compact trie saved as {filename}.png\")\n",
        "\n",
        "  def print_trie(self, node=None, level=0) -> None:\n",
        "        # Start with the root if no node is provided\n",
        "        if node is None:\n",
        "            node = self.root\n",
        "        if node is None:\n",
        "            print(\"The trie is empty.\")\n",
        "            return\n",
        "\n",
        "        # Print the current node's information\n",
        "        indent = \"  \" * level\n",
        "        print(f\"{indent}Node - Binary String: '{node.binary_string}', Is Leaf: {node.is_leaf}\")\n",
        "\n",
        "        # Print children nodes recursively\n",
        "        for i, child in enumerate(node.children):\n",
        "            if child is not None:\n",
        "                print(f\"{indent}  Child {i}:\")\n",
        "                self.print_trie(child, level + 2)"
      ]
    },
    {
      "cell_type": "code",
      "source": [
        "import os\n",
        "from IPython.display import Image\n",
        "\n",
        "trie = CompactTrie()\n",
        "\n",
        "from IPython.display import Image, display, clear_output\n",
        "import time\n",
        "\n",
        "# Instantiate the trie\n",
        "trie = CompactTrie()\n",
        "\n",
        "# Start an interactive loop to add nodes and display the updated trie\n",
        "while True:\n",
        "    # Prompt user to input a new binary string to insert\n",
        "    new_node_string = input(\"Insira uma nova string (ou 'sair' para sair): \")\n",
        "\n",
        "    if new_node_string.lower() == 'sair':\n",
        "        print(\"Finalizando o programa.\")\n",
        "        break\n",
        "\n",
        "    # Insert the new string into the trie\n",
        "    trie.insert(new_node_string)\n",
        "\n",
        "    file_path = \"interactive_trie.png\"\n",
        "\n",
        "    # Check if file exists before attempting to delete\n",
        "    if os.path.exists(file_path):\n",
        "        os.remove(file_path)\n",
        "        print(f\"{file_path} has been deleted.\")\n",
        "    else:\n",
        "        print(f\"{file_path} does not exist.\")\n",
        "\n",
        "    # Visualize the updated trie\n",
        "    trie.visualize(\"interactive_trie\")\n",
        "\n",
        "     # Display the updated image\n",
        "    display(Image(filename=\"interactive_trie.png\"))"
      ],
      "metadata": {
        "colab": {
          "base_uri": "https://localhost:8080/",
          "height": 427
        },
        "id": "rPa6a0gAIYm3",
        "outputId": "9670403d-5fcb-4d43-ebfa-de8ecc9970ad"
      },
      "execution_count": 87,
      "outputs": [
        {
          "output_type": "stream",
          "name": "stdout",
          "text": [
            "Insira uma nova string (ou 'sair' para sair): 111\n",
            "interactive_trie.png has been deleted.\n",
            "Compact trie saved as interactive_trie.png\n"
          ]
        },
        {
          "output_type": "display_data",
          "data": {
            "image/png": "[encoded data removed]",
            "text/plain": [
              "<IPython.core.display.Image object>"
            ]
          },
          "metadata": {}
        },
        {
          "output_type": "stream",
          "name": "stdout",
          "text": [
            "Insira uma nova string (ou 'sair' para sair): 100\n",
            "interactive_trie.png has been deleted.\n",
            "Compact trie saved as interactive_trie.png\n"
          ]
        },
        {
          "output_type": "display_data",
          "data": {
            "image/png": "[encoded data removed]",
            "text/plain": [
              "<IPython.core.display.Image object>"
            ]
          },
          "metadata": {}
        },
        {
          "output_type": "stream",
          "name": "stdout",
          "text": [
            "Insira uma nova string (ou 'sair' para sair): sair\n",
            "Finalizando o programa.\n"
          ]
        }
      ]
    },
    {
      "cell_type": "code",
      "source": [
        "t = CompactTrie()\n",
        "t.insert(\"000\")\n",
        "t.insert(\"111\")\n",
        "\n",
        "s = t.search(\"011\")\n",
        "\n",
        "if(s != None):\n",
        "  print(\"Encontrado\")\n",
        "else:\n",
        "  print(\"Não encontrado\")"
      ],
      "metadata": {
        "colab": {
          "base_uri": "https://localhost:8080/"
        },
        "id": "bsoqkC-Zp8C6",
        "outputId": "2fd17c44-41d5-4f75-8175-fcc2eaa83d51"
      },
      "execution_count": 78,
      "outputs": [
        {
          "output_type": "stream",
          "name": "stdout",
          "text": [
            "Não encontrado\n"
          ]
        }
      ]
    }
  ]
}