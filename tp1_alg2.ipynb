{
  "nbformat": 4,
  "nbformat_minor": 0,
  "metadata": {
    "colab": {
      "provenance": [],
      "authorship_tag": "ABX9TyO7ZC41VTy7OO6v7y/BfyJZ",
      "include_colab_link": true
    },
    "kernelspec": {
      "name": "python3",
      "display_name": "Python 3"
    },
    "language_info": {
      "name": "python"
    }
  },
  "cells": [
    {
      "cell_type": "markdown",
      "metadata": {
        "id": "view-in-github",
        "colab_type": "text"
      },
      "source": [
        "<a href=\"https://colab.research.google.com/github/gustavochavesferreira/tp1_algoritmos2/blob/main/tp1_alg2.ipynb\" target=\"_parent\"><img src=\"https://colab.research.google.com/assets/colab-badge.svg\" alt=\"Open In Colab\"/></a>"
      ]
    },
    {
      "cell_type": "code",
      "execution_count": 10,
      "metadata": {
        "colab": {
          "base_uri": "https://localhost:8080/"
        },
        "id": "V6w1xJFeZkBl",
        "outputId": "01bc9da0-df2c-4d3a-914d-45dea45414e5"
      },
      "outputs": [
        {
          "output_type": "stream",
          "name": "stdout",
          "text": [
            "Arquivo comprimido: [84, 69, 83, 84, 65, 78, 68, 79, 32, 67, 79, 77, 80, 82, 257, 83, 65, 263, 85, 84, 73, 76, 73, 90, 260, 262, 32, 76, 90, 87, 32, 80, 65, 82, 65, 32, 263, 84, 289, 66, 65, 76, 72, 263, 268, 65, 275, 265, 32, 49, 32, 68, 69, 32, 296, 71, 79, 82, 73, 84, 77, 79, 83, 32, 50]\n",
            "Arquivo descomprimido: TESTANDO COMPRESSAO UTILIZANDO LZW PARA O TRABALHO PRATICO 1 DE ALGORITMOS 2\n"
          ]
        }
      ],
      "source": [
        "import struct\n",
        "\n",
        "class LZW:\n",
        "    def __init__(self):\n",
        "        self.max_table_size = 4096\n",
        "\n",
        "    def compress(self, input_data):\n",
        "        dictionary = {chr(i): i for i in range(256)}\n",
        "        string = \"\"\n",
        "        compressed_data = []\n",
        "\n",
        "        for symbol in input_data:\n",
        "            string_plus_symbol = string + symbol\n",
        "            if string_plus_symbol in dictionary:\n",
        "                string = string_plus_symbol\n",
        "            else:\n",
        "                compressed_data.append(dictionary[string])\n",
        "                if len(dictionary) < self.max_table_size:\n",
        "                    dictionary[string_plus_symbol] = len(dictionary)\n",
        "                string = symbol\n",
        "\n",
        "        if string in dictionary:\n",
        "            compressed_data.append(dictionary[string])\n",
        "\n",
        "        return compressed_data\n",
        "\n",
        "    def decompress(self, compressed_data):\n",
        "        dictionary = {i: chr(i) for i in range(256)}\n",
        "        string = chr(compressed_data.pop(0))\n",
        "        decompressed_data = [string]\n",
        "\n",
        "        for k in compressed_data:\n",
        "            if k in dictionary:\n",
        "                entry = dictionary[k]\n",
        "            elif k == len(dictionary):\n",
        "                entry = string + string[0]\n",
        "            else:\n",
        "                raise ValueError(\"Erro na compressão k: %s\" % k)\n",
        "\n",
        "            decompressed_data.append(entry)\n",
        "\n",
        "            if len(dictionary) < self.max_table_size:\n",
        "                dictionary[len(dictionary)] = string + entry[0]\n",
        "\n",
        "            string = entry\n",
        "\n",
        "        return ''.join(decompressed_data)\n",
        "\n",
        "if __name__ == \"__main__\":\n",
        "    lzw = LZW()\n",
        "\n",
        "    with open(\"input.txt\", \"r\") as file:\n",
        "        input_data = file.read()\n",
        "\n",
        "    compressed_data = lzw.compress(input_data)\n",
        "    print(\"Arquivo comprimido:\", compressed_data)\n",
        "\n",
        "    with open(\"compressed_binary.txt\", \"w\") as file:\n",
        "        binary_data = ' '.join(format(data, '012b') for data in compressed_data)\n",
        "        file.write(binary_data)\n",
        "\n",
        "    decompressed_data = lzw.decompress(compressed_data)\n",
        "    print(\"Arquivo descomprimido:\", decompressed_data)\n",
        "\n",
        "    with open(\"decompressed.txt\", \"w\") as file:\n",
        "        file.write(decompressed_data)\n"
      ]
    }
  ]
}